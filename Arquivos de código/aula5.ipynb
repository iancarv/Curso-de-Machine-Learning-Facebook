{
  "nbformat": 4,
  "nbformat_minor": 0,
  "metadata": {
    "colab": {
      "name": "Avaliacao de modelos.ipynb",
      "version": "0.3.2",
      "provenance": []
    },
    "kernelspec": {
      "name": "python3",
      "display_name": "Python 3"
    }
  },
  "cells": [
    {
      "cell_type": "code",
      "metadata": {
        "id": "VQv8R80c1tiQ",
        "colab_type": "code",
        "colab": {}
      },
      "source": [
        "import numpy as np\n",
        "from sklearn.model_selection import validation_curve\n",
        "import matplotlib.pyplot as plt\n",
        "\n",
        "def plot_validation_curve(model, param_name, param_range, X, y, cv=5):\n",
        "  train_scores, test_scores = validation_curve(\n",
        "    model, X, y, param_name=param_name, param_range=param_range,\n",
        "      cv=cv, n_jobs=-1\n",
        "  )\n",
        "  \n",
        "  train_scores_mean = np.mean(train_scores, axis=1)\n",
        "  train_scores_std = np.std(train_scores, axis=1)\n",
        "  test_scores_mean = np.mean(test_scores, axis=1)\n",
        "  test_scores_std = np.std(test_scores, axis=1)\n",
        "  \n",
        "  plt.title('Curva de validacao do modelo ' + str(model))\n",
        "  plt.xlabel(param_name)\n",
        "  plt.ylabel('Score')\n",
        "  plt.ylim(0.0, 1.1)\n",
        "  lw = 2\n",
        "  \n",
        "  plt.semilogx(param_range, train_scores_mean, label=\"Score de treinamento\")\n",
        "  plt.fill_between(param_range, train_scores_mean - train_scores_std, train_scores_mean + train_scores_std, alpha=0.2)\n",
        "  \n",
        "  plt.semilogx(param_range, test_scores_mean, label=\"Score de teste\")\n",
        "  plt.fill_between(param_range, test_scores_mean - test_scores_std, test_scores_mean + test_scores_std, alpha=0.2)\n",
        "  plt.legend(loc='best')\n",
        "  plt.show()\n",
        "  \n",
        "  "
      ],
      "execution_count": 0,
      "outputs": []
    },
    {
      "cell_type": "code",
      "metadata": {
        "id": "4zFD08UZ4Ewg",
        "colab_type": "code",
        "outputId": "bcbb42be-aa79-4d32-9b4c-ba7d8bcc4d8b",
        "colab": {
          "base_uri": "https://localhost:8080/",
          "height": 85
        }
      },
      "source": [
        "from sklearn.datasets import load_boston\n",
        "from sklearn.ensemble import RandomForestRegressor\n",
        "\n",
        "X, y = load_boston(return_X_y=True)\n",
        "param_range = np.arange(1, 250, 5)\n",
        "param_range"
      ],
      "execution_count": 2,
      "outputs": [
        {
          "output_type": "execute_result",
          "data": {
            "text/plain": [
              "array([  1,   6,  11,  16,  21,  26,  31,  36,  41,  46,  51,  56,  61,\n",
              "        66,  71,  76,  81,  86,  91,  96, 101, 106, 111, 116, 121, 126,\n",
              "       131, 136, 141, 146, 151, 156, 161, 166, 171, 176, 181, 186, 191,\n",
              "       196, 201, 206, 211, 216, 221, 226, 231, 236, 241, 246])"
            ]
          },
          "metadata": {
            "tags": []
          },
          "execution_count": 2
        }
      ]
    },
    {
      "cell_type": "code",
      "metadata": {
        "id": "10DcRhyC4c9T",
        "colab_type": "code",
        "colab": {}
      },
      "source": [
        "plot_validation_curve(RandomForestRegressor(), 'n_estimators', param_range, X, y)"
      ],
      "execution_count": 0,
      "outputs": []
    },
    {
      "cell_type": "code",
      "metadata": {
        "id": "5jGe7_Us4m5N",
        "colab_type": "code",
        "colab": {}
      },
      "source": [
        "from sklearn.linear_model import Lasso\n",
        "param_range = [0.01, 0.05, 1, 5, 10, 100]\n",
        "plot_validation_curve(Lasso(), 'alpha', param_range, X, y)"
      ],
      "execution_count": 0,
      "outputs": []
    },
    {
      "cell_type": "code",
      "metadata": {
        "id": "oc0oB4i35gfi",
        "colab_type": "code",
        "colab": {}
      },
      "source": [
        "from sklearn.model_selection import train_test_split\n",
        "from sklearn.model_selection import cross_val_score\n",
        "import seaborn as sns\n",
        "\n",
        "def generate_report(model, X, y, cv=5, columns=None, test_size=0.4, metrics=['r2']):\n",
        "  print('Modelo Utilizado', model)\n",
        "  print('Validacoes cruzadas', cv)\n",
        "  \n",
        "  print('Tamanho do conjunto de dados', len(X))\n",
        "  if not columns:\n",
        "    columns = X.columns\n",
        "  X = X[columns]\n",
        "  \n",
        "  print('Colunas Utilizadas', columns)\n",
        "  print('Numero de colunas', len(columns))\n",
        "  \n",
        "  print('Validacao cruzada')\n",
        "  for metric in metrics:\n",
        "    scores = cross_val_score(model, X, y, cv=cv, scoring=metric)\n",
        "    print('Metrica: ', metric, \": %0.2f (+/- %0.2f)\" % ( scores.mean(), scores.std() * 2 ))\n",
        "    \n",
        "  X_train, X_test, y_train, y_test = train_test_split(X, y,\n",
        "    test_size=test_size, random_state=2)\n",
        "  model.fit(X_train, y_train)\n",
        "  y_pred = model.predict(X_test)\n",
        "  \n",
        "  sns.scatterplot(y_test, y_pred)\n",
        " "
      ],
      "execution_count": 0,
      "outputs": []
    },
    {
      "cell_type": "code",
      "metadata": {
        "id": "3q2AYCa27XeL",
        "colab_type": "code",
        "colab": {}
      },
      "source": [
        ""
      ],
      "execution_count": 0,
      "outputs": []
    },
    {
      "cell_type": "code",
      "metadata": {
        "id": "3_eOlvPD7JZT",
        "colab_type": "code",
        "colab": {}
      },
      "source": [
        "from sklearn.linear_model import LinearRegression\n",
        "import pandas as pd\n",
        "dataset = load_boston()\n",
        "df = pd.DataFrame(dataset.data, columns=dataset.feature_names)\n",
        "generate_report(LinearRegression(), df, y, \n",
        "  metrics=['explained_variance', 'r2', 'neg_mean_squared_error'])"
      ],
      "execution_count": 0,
      "outputs": []
    },
    {
      "cell_type": "code",
      "metadata": {
        "id": "RjE5RWA_7X0I",
        "colab_type": "code",
        "colab": {}
      },
      "source": [
        ""
      ],
      "execution_count": 0,
      "outputs": []
    }
  ]
}
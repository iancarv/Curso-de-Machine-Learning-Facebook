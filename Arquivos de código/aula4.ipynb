{
  "nbformat": 4,
  "nbformat_minor": 0,
  "metadata": {
    "colab": {
      "name": "Aula4.ipynb",
      "version": "0.3.2",
      "provenance": []
    },
    "kernelspec": {
      "name": "python3",
      "display_name": "Python 3"
    }
  },
  "cells": [
    {
      "cell_type": "code",
      "metadata": {
        "id": "HDKPlCxGqDxP",
        "colab_type": "code",
        "colab": {}
      },
      "source": [
        "from sklearn.datasets import load_boston\n",
        "from sklearn.linear_model import LinearRegression\n",
        "import pandas as pd\n",
        "import numpy as np\n",
        "\n",
        "data = load_boston()\n"
      ],
      "execution_count": 0,
      "outputs": []
    },
    {
      "cell_type": "code",
      "metadata": {
        "id": "g4ydAztjsMru",
        "colab_type": "code",
        "colab": {}
      },
      "source": [
        "df = pd.DataFrame(data.data, columns=data.feature_names)\n",
        "y = data.target"
      ],
      "execution_count": 0,
      "outputs": []
    },
    {
      "cell_type": "code",
      "metadata": {
        "id": "E12r3LhjsUeT",
        "colab_type": "code",
        "outputId": "7af6002c-10ec-4e6b-d841-98bdda3c4104",
        "colab": {
          "base_uri": "https://localhost:8080/",
          "height": 34
        }
      },
      "source": [
        "from sklearn.model_selection import cross_val_score\n",
        "X = df\n",
        "regressor = LinearRegression()\n",
        "scores = cross_val_score(regressor, X, y, cv=5)\n",
        "\n",
        "print('Score: %0.2f, (+/- %0.2f)' % (scores.mean(), scores.std() * 2))"
      ],
      "execution_count": 3,
      "outputs": [
        {
          "output_type": "stream",
          "text": [
            "Score: 0.35, (+/- 0.75)\n"
          ],
          "name": "stdout"
        }
      ]
    },
    {
      "cell_type": "code",
      "metadata": {
        "id": "zONJzBZasztL",
        "colab_type": "code",
        "colab": {}
      },
      "source": [
        "from sklearn.datasets import load_boston\n",
        "import pandas as pd\n",
        "from sklearn.feature_selection import SelectFromModel"
      ],
      "execution_count": 0,
      "outputs": []
    },
    {
      "cell_type": "code",
      "metadata": {
        "id": "UfmBt4TitEsm",
        "colab_type": "code",
        "colab": {}
      },
      "source": [
        "dataset = load_boston()\n",
        "df = pd.DataFrame(dataset.data, columns=dataset.feature_names)"
      ],
      "execution_count": 0,
      "outputs": []
    },
    {
      "cell_type": "code",
      "metadata": {
        "id": "URl2QoCSzUd8",
        "colab_type": "code",
        "colab": {}
      },
      "source": [
        "from sklearn.model_selection import train_test_split\n",
        "X_train, X_test, y_train, y_test = train_test_split(X, y,\n",
        "  test_size=0.2, random_state=2)"
      ],
      "execution_count": 0,
      "outputs": []
    },
    {
      "cell_type": "code",
      "metadata": {
        "id": "JQi52UOGzjav",
        "colab_type": "code",
        "outputId": "c4d3ea21-3ce3-483c-a67a-07f82dce3155",
        "colab": {
          "base_uri": "https://localhost:8080/",
          "height": 255
        }
      },
      "source": [
        "from sklearn.ensemble import RandomForestRegressor\n",
        "sel = SelectFromModel(RandomForestRegressor(n_estimators=100))\n",
        "sel.fit(X_train, y_train)"
      ],
      "execution_count": 7,
      "outputs": [
        {
          "output_type": "execute_result",
          "data": {
            "text/plain": [
              "SelectFromModel(estimator=RandomForestRegressor(bootstrap=True, criterion='mse',\n",
              "                                                max_depth=None,\n",
              "                                                max_features='auto',\n",
              "                                                max_leaf_nodes=None,\n",
              "                                                min_impurity_decrease=0.0,\n",
              "                                                min_impurity_split=None,\n",
              "                                                min_samples_leaf=1,\n",
              "                                                min_samples_split=2,\n",
              "                                                min_weight_fraction_leaf=0.0,\n",
              "                                                n_estimators=100, n_jobs=None,\n",
              "                                                oob_score=False,\n",
              "                                                random_state=None, verbose=0,\n",
              "                                                warm_start=False),\n",
              "                max_features=None, norm_order=1, prefit=False, threshold=None)"
            ]
          },
          "metadata": {
            "tags": []
          },
          "execution_count": 7
        }
      ]
    },
    {
      "cell_type": "code",
      "metadata": {
        "id": "N2kUkmVgzx2_",
        "colab_type": "code",
        "outputId": "e2c2211b-3db4-4c54-d923-c8ca98bb5ef7",
        "colab": {
          "base_uri": "https://localhost:8080/",
          "height": 34
        }
      },
      "source": [
        "selected_feat = X_train.columns[sel.get_support()]\n",
        "selected_feat"
      ],
      "execution_count": 8,
      "outputs": [
        {
          "output_type": "execute_result",
          "data": {
            "text/plain": [
              "Index(['RM', 'DIS', 'LSTAT'], dtype='object')"
            ]
          },
          "metadata": {
            "tags": []
          },
          "execution_count": 8
        }
      ]
    },
    {
      "cell_type": "code",
      "metadata": {
        "id": "-7FTl8K7z8VD",
        "colab_type": "code",
        "outputId": "f59a399c-218b-45b2-e64a-e1f464ec86db",
        "colab": {
          "base_uri": "https://localhost:8080/",
          "height": 34
        }
      },
      "source": [
        "from sklearn.ensemble import AdaBoostRegressor\n",
        "sel = SelectFromModel(AdaBoostRegressor(n_estimators=100))\n",
        "sel.fit(X_train, y_train)\n",
        "\n",
        "selected_feat = X_train.columns[sel.get_support()]\n",
        "selected_feat"
      ],
      "execution_count": 9,
      "outputs": [
        {
          "output_type": "execute_result",
          "data": {
            "text/plain": [
              "Index(['RM', 'DIS', 'LSTAT'], dtype='object')"
            ]
          },
          "metadata": {
            "tags": []
          },
          "execution_count": 9
        }
      ]
    },
    {
      "cell_type": "code",
      "metadata": {
        "id": "sER4XQK50Gp_",
        "colab_type": "code",
        "outputId": "288712f0-3fee-4c8e-8408-b33596c4b7ef",
        "colab": {
          "base_uri": "https://localhost:8080/",
          "height": 34
        }
      },
      "source": [
        "from sklearn.linear_model import LinearRegression\n",
        "sel = SelectFromModel(LinearRegression())\n",
        "sel.fit(X_train, y_train)\n",
        "\n",
        "selected_feat = X_train.columns[sel.get_support()]\n",
        "selected_feat"
      ],
      "execution_count": 10,
      "outputs": [
        {
          "output_type": "execute_result",
          "data": {
            "text/plain": [
              "Index(['CHAS', 'NOX', 'RM'], dtype='object')"
            ]
          },
          "metadata": {
            "tags": []
          },
          "execution_count": 10
        }
      ]
    },
    {
      "cell_type": "code",
      "metadata": {
        "id": "M3zNgHd_0OGb",
        "colab_type": "code",
        "colab": {}
      },
      "source": [
        ""
      ],
      "execution_count": 0,
      "outputs": []
    }
  ]
}